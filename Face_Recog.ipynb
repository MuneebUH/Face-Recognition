{
 "cells": [
  {
   "cell_type": "code",
   "execution_count": 26,
   "id": "b3261e43-3b56-4ef1-a69a-eaf2228f2738",
   "metadata": {},
   "outputs": [],
   "source": [
    "import face_recognition\n",
    "import os\n",
    "from PIL import Image, ImageDraw, ImageFont\n",
    "\n",
    "# Step 1: Load known images and encode them\n",
    "known_face_encodings = []\n",
    "known_face_names = []\n",
    "\n",
    "# Load known images from the 'Mhassan.jpg' file\n",
    "image_path = \"imrankhan.jpg\"\n",
    "image = face_recognition.load_image_file(image_path)\n",
    "encoding = face_recognition.face_encodings(image)[0]\n",
    "known_face_encodings.append(encoding)\n",
    "known_face_names.append(\"Imran Khan\")  # Name to display\n",
    "\n",
    "# Step 2: Load the unknown image\n",
    "unknown_image_path = \"imran khan.jpg\"\n",
    "unknown_image = face_recognition.load_image_file(unknown_image_path)\n",
    "\n",
    "# Step 3: Find faces in the unknown image\n",
    "face_locations = face_recognition.face_locations(unknown_image)\n",
    "face_encodings = face_recognition.face_encodings(unknown_image, face_locations)\n",
    "\n",
    "# Convert to PIL format for drawing\n",
    "pil_image = Image.fromarray(unknown_image)\n",
    "draw = ImageDraw.Draw(pil_image)\n",
    "\n",
    "# Load a font\n",
    "font_size = 20  # Change this value to set the font size\n",
    "font = ImageFont.truetype(\"arial.ttf\", font_size)\n",
    "\n",
    "# Step 4: Compare faces with known faces\n",
    "for (top, right, bottom, left), face_encoding in zip(face_locations, face_encodings):\n",
    "    matches = face_recognition.compare_faces(known_face_encodings, face_encoding)\n",
    "    name = \"Unknown\"\n",
    "\n",
    "    # If a match was found, use the name of the first match\n",
    "    if True in matches:\n",
    "        first_match_index = matches.index(True)\n",
    "        name = known_face_names[first_match_index]\n",
    "\n",
    "    # Draw a rectangle around the face\n",
    "    draw.rectangle(((left, top), (right, bottom)), outline=\"red\", width=3)\n",
    "\n",
    "    # Calculate text size\n",
    "    text_bbox = draw.textbbox((left, bottom), name, font=font)\n",
    "    text_width = text_bbox[2] - text_bbox[0]\n",
    "    text_height = text_bbox[3] - text_bbox[1]\n",
    "\n",
    "    # Draw a filled rectangle behind the text\n",
    "    draw.rectangle(((left, bottom), (left + text_width, bottom + text_height + 10)), fill=\"red\")\n",
    "\n",
    "    # Draw the name below the face\n",
    "    draw.text((left, bottom + 5), name, fill=\"white\", font=font)\n",
    "\n",
    "# Display the image with names and rectangles\n",
    "pil_image.show()\n",
    "\n",
    "# Save the image\n",
    "pil_image.save(\"output_image.jpg\")\n"
   ]
  },
  {
   "cell_type": "code",
   "execution_count": null,
   "id": "0380df44-eeba-42c8-886e-eb5ae368f25d",
   "metadata": {},
   "outputs": [],
   "source": []
  }
 ],
 "metadata": {
  "kernelspec": {
   "display_name": "Python 3 (ipykernel)",
   "language": "python",
   "name": "python3"
  },
  "language_info": {
   "codemirror_mode": {
    "name": "ipython",
    "version": 3
   },
   "file_extension": ".py",
   "mimetype": "text/x-python",
   "name": "python",
   "nbconvert_exporter": "python",
   "pygments_lexer": "ipython3",
   "version": "3.12.0"
  },
  "widgets": {
   "application/vnd.jupyter.widget-state+json": {
    "state": {},
    "version_major": 2,
    "version_minor": 0
   }
  }
 },
 "nbformat": 4,
 "nbformat_minor": 5
}
